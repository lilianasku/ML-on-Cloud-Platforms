{
 "cells": [
  {
   "cell_type": "markdown",
   "metadata": {},
   "source": [
    "## Using AWS ML autopilot \n",
    "\n",
    "This preinstalled environment includes the default Anaconda installation and Python 3.\n",
    "\n",
    "follow this instructions...\n",
    "\n",
    "https://www.youtube.com/watch?v=_8cwVpo6IHU \n",
    "\n",
    "& this\n",
    "https://github.com/aws/amazon-sagemaker-examples/blob/master/README.md\n",
    "\n",
    "& this:\n",
    "https://docs.aws.amazon.com/sagemaker/latest/dg/gs-console.html\n",
    "\n",
    "In this notebook we will explore the same data set with Amazon SageMaker autopilot service. \n",
    "\n",
    "Explain what it is here.....Autopilot is a new AWS service, that will take data and explore if there is any missing data and giving a data set it can decide what problem we are trying to solve. \n",
    "\n",
    "What does Autopilot Sagemaker do? \n",
    "It takes data from the S3 backet, explore it, does feature engineering, check data quality, \n",
    "\n",
    "based on what we tell it to do -- for example predict the column passenger satisfaction, Sagemaker knows what type of problem is and it knows what type of algorithm to use\n",
    "\n",
    "Chooses models to use on data set, training and tuning the model and shows the list of best model candidates to solve the problem given a data set\n",
    "\n",
    "It documents everything and generate customer notebook that can be further optimozed and tuned \n",
    "\n",
    "This is a good way of checking data and making first prediction....\n",
    "My data set is customer review of air-line data where we are trying to predict level of satisfaction of the customer based on other columns in the data set. "
   ]
  },
  {
   "cell_type": "markdown",
   "metadata": {},
   "source": [
    "Some resources:\n",
    "amazon sagemaker documentation\n",
    "https://docs.aws.amazon.com/sagemaker/index.html\n",
    "\n",
    "Python SDK:\n",
    "https://carto.com/developers/python-sdk/\n",
    "\n",
    "example of using aws autopilot:\n",
    "\n",
    "https://thenewstack.io/tutorial-use-the-amazon-sagemaker-python-sdk-to-train-automl-models-with-autopilot/\n",
    "\n",
    "Examples of using Sagemaker\n",
    "https://github.com/aws/amazon-sagemaker-examples\n",
    "\n",
    "get started with Amazon sagemaker instance\n",
    "https://docs.aws.amazon.com/sagemaker/latest/dg/gs-console.html"
   ]
  },
  {
   "cell_type": "code",
   "execution_count": 2,
   "metadata": {},
   "outputs": [
    {
     "ename": "ModuleNotFoundError",
     "evalue": "No module named 'sagemaker'",
     "output_type": "error",
     "traceback": [
      "\u001b[1;31m---------------------------------------------------------------------------\u001b[0m",
      "\u001b[1;31mModuleNotFoundError\u001b[0m                       Traceback (most recent call last)",
      "\u001b[1;32m<ipython-input-2-4e80111b843d>\u001b[0m in \u001b[0;36m<module>\u001b[1;34m\u001b[0m\n\u001b[0;32m      1\u001b[0m \u001b[1;32mimport\u001b[0m \u001b[0mboto3\u001b[0m\u001b[1;33m\u001b[0m\u001b[1;33m\u001b[0m\u001b[0m\n\u001b[1;32m----> 2\u001b[1;33m \u001b[1;32mimport\u001b[0m \u001b[0msagemaker\u001b[0m\u001b[1;33m\u001b[0m\u001b[1;33m\u001b[0m\u001b[0m\n\u001b[0m\u001b[0;32m      3\u001b[0m \u001b[1;32mimport\u001b[0m \u001b[0mpandas\u001b[0m \u001b[1;32mas\u001b[0m \u001b[0mpd\u001b[0m\u001b[1;33m\u001b[0m\u001b[1;33m\u001b[0m\u001b[0m\n",
      "\u001b[1;31mModuleNotFoundError\u001b[0m: No module named 'sagemaker'"
     ]
    }
   ],
   "source": [
    "import boto3\n",
    "#import sagemaker\n",
    "import pandas as pd"
   ]
  },
  {
   "cell_type": "code",
   "execution_count": null,
   "metadata": {},
   "outputs": [],
   "source": []
  }
 ],
 "metadata": {
  "kernelspec": {
   "display_name": "xgboost-env",
   "language": "python",
   "name": "xgboost-env"
  },
  "language_info": {
   "codemirror_mode": {
    "name": "ipython",
    "version": 3
   },
   "file_extension": ".py",
   "mimetype": "text/x-python",
   "name": "python",
   "nbconvert_exporter": "python",
   "pygments_lexer": "ipython3",
   "version": "3.7.7"
  }
 },
 "nbformat": 4,
 "nbformat_minor": 4
}
